{
 "cells": [
  {
   "cell_type": "markdown",
   "metadata": {},
   "source": [
    "# Interactive Brain Visualization"
   ]
  },
  {
   "cell_type": "markdown",
   "metadata": {},
   "source": [
    "This is an interactive tool for visualizing time series data from an ECoG experiment. You can do the following:\n",
    "* Select electrodes with the menu list or mouse selection tool (use ctrl-L or ctrl-C and keep ctrl pressed, then use the mouse)\n",
    "* Change the size and color of selected and unselected electrodes"
   ]
  },
  {
   "cell_type": "code",
   "execution_count": 72,
   "metadata": {},
   "outputs": [],
   "source": [
    "import neuropythy as ny\n",
    "import ipyvolume as ipv\n",
    "from matplotlib import cm\n",
    "import numpy as np\n",
    "import scipy.io\n",
    "import os\n",
    "import wget\n",
    "from ipywidgets import FloatSlider, ColorPicker, VBox, jslink\n",
    "from IPython.display import clear_output\n",
    "\n",
    "# for unnzipping and loading data\n",
    "from zipfile import ZipFile\n",
    "\n",
    "# for dropdown menu\n",
    "import ipywidgets as widgets\n",
    "from ipywidgets import interact, interactive, interact_manual, GridspecLayout, Layout\n",
    "\n",
    "# For loading data files\n",
    "import h5py\n",
    "\n",
    "# from bqplot import pyplot as plt\n",
    "from matplotlib import pyplot as plt\n",
    "\n",
    "from bqplot import interacts\n",
    "import warnings\n",
    "warnings.filterwarnings(\"ignore\")"
   ]
  },
  {
   "cell_type": "code",
   "execution_count": 73,
   "metadata": {},
   "outputs": [],
   "source": [
    "## FETCH DATA\n",
    "\n",
    "# Where is the data located?\n",
    "local_path = '../shablona/data'\n",
    "# local_path = '/Applications/freesurfer_v5/subjects/'\n",
    "subj_path = local_path+'/test_subj'\n",
    "\n",
    "# If the data is not there, download and extract it\n",
    "if not os.path.isdir(os.path.join(local_path,'test_subj')):\n",
    "    # download example data with wget\n",
    "    print('Downloading mesh and electrode data with wget')\n",
    "    myfile = wget.download('https://zenodo.org/record/996814/files/Hamilton_et_al_img_pipe_test_subj.zip?download=1', local_path)\n",
    "    # extract files\n",
    "    with ZipFile(myfile, 'r') as zip_ref:\n",
    "        #print(zip_ref.printdir())\n",
    "        # Technically we only need the surf, mri, and label directories\n",
    "        #zip_ref.extract('test_subj/surf/', local_path)\n",
    "        #zip_ref.extract('test_subj/mri/', local_path)\n",
    "        zip_ref.extractall(local_path)\n",
    "\n",
    "# Get the functional data\n",
    "data_dict = dict()\n",
    "with h5py.File('%s/test_subj_CV.hf5'%(local_path),'r') as f:\n",
    "    stimulus_types = f['ecog'].keys()\n",
    "    times = f['times'][:].ravel()\n",
    "    #print(stimulus_types)\n",
    "    for s in stimulus_types:\n",
    "        data_dict[s] = f['ecog'][s][:]\n",
    "        \n",
    "# Get the electrode coordinates\n",
    "if os.path.exists(subj_path):\n",
    "    sub = ny.freesurfer_subject(subj_path)\n",
    "    elecs = scipy.io.loadmat(os.path.join(subj_path,'elecs/TDT_elecs_all.mat'))\n",
    "else:\n",
    "    print('file not found?')\n",
    "    sub = ny.freesurfer_subject('test_subj')\n",
    "    elecs=scipy.io.loadmat('/Applications/freesurfer_v5/subjects/test_subj/elecs/TDT_elecs_all.mat')\n"
   ]
  },
  {
   "cell_type": "code",
   "execution_count": 74,
   "metadata": {},
   "outputs": [],
   "source": [
    "def plot_activity(data_dict, times, condition, elec):\n",
    "    '''\n",
    "    Plot the activity for the selected electrode(s)\n",
    "    Inputs:\n",
    "    \n",
    "        data_dict [dict] : \n",
    "        times [array-like] : \n",
    "        condition [str] : condition to plot (from data_dict.keys())\n",
    "        elec [int] : selected electrode \n",
    "        \n",
    "    '''\n",
    "    if len(elec) > 1:\n",
    "        data = data_dict[condition][elec,:].mean(0)\n",
    "        data_std = data_dict[condition][elec,:].std(0)/np.sqrt(len(elec))\n",
    "    else:\n",
    "        data = data_dict[condition][elec,:]\n",
    "        data_std = np.zeros((data.shape))\n",
    "    fig = plt.figure()\n",
    "    plt.plot(times, data)\n",
    "    plt.fill_between(times, data-data_std, data+data_std, alpha=0.5)\n",
    "    plt.axvline(color='k', linestyle='--', linewidth=1)\n",
    "    plt.axhline(color='k', linestyle='--', linewidth=1)\n",
    "    plt.xlabel('Time (s)')\n",
    "    plt.ylabel('Z-scored HG')\n",
    "\n",
    "#fig_out = widgets.Output(layout=Layout(height='300px', width = '300px', border='solid'))\n",
    "\n",
    "#update_plot = interact(plot_activity, data_dict=data_dict, times=times, condition='CV_listen', elec=[0,1])"
   ]
  },
  {
   "cell_type": "code",
   "execution_count": 112,
   "metadata": {},
   "outputs": [],
   "source": [
    "anatomical_areas = [area[0] for area in np.unique(elecs['anatomy'][:,3])]\n",
    "\n",
    "def select_parameters(#selected_elec = elecs['eleclabels'][:,0], \n",
    "                      selected_stimulus = [k for k in data_dict.keys()],\n",
    "                      #selected_time = (0, 10, 10000)\n",
    "                        ):\n",
    "#     elecs_scatter.selected = np.where(elecs['eleclabels'][:,0] == selected_elec)\n",
    "    plot_activity(data_dict, times, condition = selected_stimulus, elec = elecs_scatter.selected)\n",
    "    return\n",
    "\n",
    "    \n",
    "#elecs_scatter.selected\n",
    "\n",
    "w = interactive(select_parameters)\n",
    "\n",
    "elec_select = widgets.SelectMultiple(\n",
    "   #options= {a[0]:i for i, a in enumerate(list(elecs['eleclabels'][:,0]))},\n",
    "   options = {a[0][0]+'-'+a[1][0]: i for i, a in enumerate(zip(elecs['anatomy'][:,0], elecs['anatomy'][:,3]))},\n",
    "   value= [1],\n",
    "   #rows=10,\n",
    "   description='Electrode(s)',\n",
    "   disabled=False\n",
    ")\n",
    "\n",
    "output_elec_select = widgets.Output()\n",
    "\n",
    "def on_value_change(change):\n",
    "    with output_elec_select:\n",
    "        elecs_scatter.selected = [i for i in change['new']]\n",
    "        #plot_activity(data_dict, times, w.children[0].value, elec = elecs_scatter.selected)\n",
    "        \n",
    "    #with fig_out:\n",
    "        #print(w.children[0].value)\n",
    "    #    clear_output()\n",
    "    #    plot_activity(data_dict, times, w.children[0].value, elec = elecs_scatter.selected)\n",
    "    return\n",
    "\n",
    "elec_select.observe(on_value_change, names='value')"
   ]
  },
  {
   "cell_type": "code",
   "execution_count": 113,
   "metadata": {
    "scrolled": false
   },
   "outputs": [
    {
     "data": {
      "application/vnd.jupyter.widget-view+json": {
       "model_id": "48f0ecd29e4d4e0a8f82dee3bad577a2",
       "version_major": 2,
       "version_minor": 0
      },
      "text/plain": [
       "Output()"
      ]
     },
     "metadata": {},
     "output_type": "display_data"
    },
    {
     "data": {
      "application/vnd.jupyter.widget-view+json": {
       "model_id": "e6ae0242773f48e99717e626d2d53774",
       "version_major": 2,
       "version_minor": 0
      },
      "text/plain": [
       "GridspecLayout(children=(Figure(camera=PerspectiveCamera(fov=0.644570721372708, position=(0.0, -100.0, 0.0), q…"
      ]
     },
     "metadata": {},
     "output_type": "display_data"
    }
   ],
   "source": [
    "# Make the brain white but slightly transparent (alpha=0.5)\n",
    "clr = np.ones((sub.rh.pial_surface.vertex_count,4))\n",
    "clr[:,3] = 0.5\n",
    "\n",
    "# Initialize ipyvolume figure\n",
    "ipv.figure()\n",
    "ipf = ny.cortex_plot(sub.rh.pial_surface, color=clr, alpha=0.5, underlay=None, mesh_alpha = 0.5)\n",
    "\n",
    "# Get the lasso selector\n",
    "ipv.selector_default()\n",
    "\n",
    "# Plot the electrodes as spheres\n",
    "elecs_scatter = ipv.pylab.scatter(elecs['elecmatrix'][:,0],elecs['elecmatrix'][:,1],elecs['elecmatrix'][:,2], \n",
    "                            marker='sphere', selected=[0,1,2,3,4], color_selected='cornflowerblue', \n",
    "                            color='coral', size_selected = 3.0)\n",
    "\n",
    "def on_lasso_choice(*_):\n",
    "    elec_select.value =  tuple(elecs_scatter.selected[0]);\n",
    "    w.children[0].value = w.children[0].value\n",
    "#     line.set_ydata(np.zeros(data_dict['CV_listen'].shape[1],))\n",
    "#     plt.show()\n",
    "\n",
    "    \n",
    "elecs_scatter.observe(on_lasso_choice,'selected')\n",
    "\n",
    "style = {'description_width': '100px'}\n",
    "\n",
    "size = FloatSlider(min=0, max=10, step=0.1, description='Unselected size', style=style)\n",
    "size_selected = FloatSlider(min=0, max=10, step=0.1, description='Selected size', style=style)\n",
    "color = ColorPicker(concise=True, description='Unselected', style=style)\n",
    "color_selected = ColorPicker(concise=True, description='Selected', style=style)\n",
    "jslink((elecs_scatter, 'size'), (size, 'value'))\n",
    "jslink((elecs_scatter, 'size_selected'), (size_selected, 'value'))\n",
    "jslink((elecs_scatter, 'color'), (color, 'value'))\n",
    "jslink((elecs_scatter, 'color_selected'), (color_selected, 'value'))\n",
    "# jslink((elecs_scatter, 'selected'),(elec_select, 'index'))\n",
    "#VBox([ipv.gcc(), size, size_selected, color, color_selected])\n",
    "\n",
    "\n",
    "\n",
    "grid = GridspecLayout(8, 3)\n",
    "grid[:, 0] = ipf\n",
    "grid[0, 1] = elec_select\n",
    "grid[1:, 1] = w\n",
    "#grid[2:,1] = fig_out\n",
    "\n",
    "grid\n",
    "# ipv.show()\n"
   ]
  }
 ],
 "metadata": {
  "kernelspec": {
   "display_name": "Python 3",
   "language": "python",
   "name": "python3"
  },
  "language_info": {
   "codemirror_mode": {
    "name": "ipython",
    "version": 3
   },
   "file_extension": ".py",
   "mimetype": "text/x-python",
   "name": "python",
   "nbconvert_exporter": "python",
   "pygments_lexer": "ipython3",
   "version": "3.6.6"
  }
 },
 "nbformat": 4,
 "nbformat_minor": 4
}

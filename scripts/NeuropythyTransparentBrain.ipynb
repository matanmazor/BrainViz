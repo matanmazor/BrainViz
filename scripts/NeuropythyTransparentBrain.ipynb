{
 "cells": [
  {
   "cell_type": "markdown",
   "metadata": {},
   "source": [
    "# Interactive Brain Visualization"
   ]
  },
  {
   "cell_type": "code",
   "execution_count": 29,
   "metadata": {},
   "outputs": [],
   "source": [
    "import neuropythy as ny\n",
    "import ipyvolume as ipv\n",
    "from matplotlib import cm\n",
    "import numpy as np\n",
    "import scipy.io\n",
    "import os\n",
    "import wget\n",
    "\n",
    "##unzip and load test subject data\n",
    "from zipfile import ZipFile\n",
    "\n",
    "#pip install --upgrade ipyvolume\n",
    "# needs: pip install shapely\n",
    "# pip install wget\n",
    "\n",
    "## for dropdown menu\n",
    "import ipywidgets as widgets\n",
    "from ipywidgets import interact, interactive, interact_manual, GridspecLayout\n",
    "\n",
    "# For loading data files\n",
    "import h5py\n",
    "\n",
    "from matplotlib import pyplot as plt\n",
    "import warnings\n",
    "warnings.filterwarnings(\"ignore\")"
   ]
  },
  {
   "cell_type": "code",
   "execution_count": 30,
   "metadata": {},
   "outputs": [],
   "source": [
    "local_path = '../shablona/data'\n",
    "local_path = '/Applications/freesurfer_v5/subjects/'\n",
    "if not os.path.isdir(os.path.join(local_path,'test_subj')):\n",
    "    # download example data with wget\n",
    "    print('Downloading mesh and electrode data with wget')\n",
    "    myfile = wget.download('https://zenodo.org/record/996814/files/Hamilton_et_al_img_pipe_test_subj.zip?download=1', local_path)\n",
    "    # extract files\n",
    "    with ZipFile(myfile, 'r') as zip_ref:\n",
    "        #print(zip_ref.printdir())\n",
    "        #zip_ref.extract('test_subj/surf/', local_path)\n",
    "        #zip_ref.extract('test_subj/mri/', local_path)\n",
    "        zip_ref.extractall(local_path)\n",
    "\n",
    "# Get the functional data\n",
    "data_dict = dict()\n",
    "local_path = '../shablona/data'\n",
    "with h5py.File('%s/test_subj_CV.hf5'%(local_path),'r') as f:\n",
    "    stimulus_types = f['ecog'].keys()\n",
    "    times = f['times'][:].ravel()\n",
    "    #print(stimulus_types)\n",
    "    for s in stimulus_types:\n",
    "        data_dict[s] = f['ecog'][s][:]\n"
   ]
  },
  {
   "cell_type": "code",
   "execution_count": 31,
   "metadata": {},
   "outputs": [
    {
     "data": {
      "text/plain": [
       "(256, 801)"
      ]
     },
     "execution_count": 31,
     "metadata": {},
     "output_type": "execute_result"
    }
   ],
   "source": [
    "data_dict['CV_listen'].shape"
   ]
  },
  {
   "cell_type": "code",
   "execution_count": 32,
   "metadata": {},
   "outputs": [],
   "source": [
    "local_path = '/Applications/freesurfer_v5/subjects/'\n",
    "subj_path = local_path+'/test_subj'\n",
    "\n",
    "if os.path.exists(subj_path):\n",
    "    sub = ny.freesurfer_subject(subj_path)\n",
    "    elecs = scipy.io.loadmat(os.path.join(subj_path,'elecs/TDT_elecs_all.mat'))\n",
    "else:\n",
    "    print('file not found?')\n",
    "    sub = ny.freesurfer_subject('test_subj')\n",
    "    elecs=scipy.io.loadmat('/Applications/freesurfer_v5/subjects/test_subj/elecs/TDT_elecs_all.mat')\n",
    "\n",
    "#sub.hemis"
   ]
  },
  {
   "cell_type": "code",
   "execution_count": 68,
   "metadata": {},
   "outputs": [],
   "source": [
    "def plot_activity(data_dict, times, condition, elec):\n",
    "    if elec > data_dict[condition].shape[0]:\n",
    "        data = np.zeros((data_dict[condition].shape[1],))\n",
    "    else:\n",
    "        data = data_dict[condition][elec,:].ravel()\n",
    "    plt.plot(times, data)\n",
    "    plt.axvline(color='k', linestyle='--', linewidth=1)\n",
    "    plt.axhline(color='k', linestyle='--', linewidth=1)\n",
    "    plt.xlabel('Time (s)')\n",
    "    plt.ylabel('Z-scored HG')\n",
    "\n",
    "#plt.axvline?"
   ]
  },
  {
   "cell_type": "code",
   "execution_count": 69,
   "metadata": {},
   "outputs": [],
   "source": [
    "anatomical_areas = [area[0] for area in np.unique(elecs['anatomy'][:,3])]\n",
    "#                      selected_anatomy = anatomical_areas,\n",
    "\n",
    "elec_select = widgets.SelectMultiple(\n",
    "    options= elecs['eleclabels'][:,0],\n",
    "    value=['G1'],\n",
    "    #rows=10,\n",
    "    description='Electrode(s)',\n",
    "    disabled=False\n",
    ")\n",
    "\n",
    "#@interact\n",
    "\n",
    "def select_parameters(selected_elec = elecs['eleclabels'][:,0], \n",
    "                      selected_type = ['raw','not raw'],\n",
    "                      selected_stimulus = [k for k in data_dict.keys()],\n",
    "                      selected_time = (0, 10, 10000)):\n",
    "    elecs_scatter.selected = np.where(elecs['eleclabels'][:,0] == selected_elec)\n",
    "    fig = plot_activity(data_dict, times, condition = selected_stimulus, elec = elecs_scatter.selected)\n",
    "    return\n",
    "    #return fig\n",
    "\n",
    "#elecs_scatter.selected\n",
    "\n",
    "w = interactive(select_parameters)"
   ]
  },
  {
   "cell_type": "code",
   "execution_count": 75,
   "metadata": {},
   "outputs": [
    {
     "data": {
      "application/vnd.jupyter.widget-view+json": {
       "model_id": "c171fe79d1aa44028d93b47781dfde56",
       "version_major": 2,
       "version_minor": 0
      },
      "text/plain": [
       "Output()"
      ]
     },
     "metadata": {},
     "output_type": "display_data"
    },
    {
     "data": {
      "application/vnd.jupyter.widget-view+json": {
       "model_id": "062982e50b2d41a0be4d5375b698dc99",
       "version_major": 2,
       "version_minor": 0
      },
      "text/plain": [
       "GridspecLayout(children=(Figure(camera=PerspectiveCamera(fov=0.644570721372708, position=(0.0, -100.0, 0.0), q…"
      ]
     },
     "metadata": {},
     "output_type": "display_data"
    }
   ],
   "source": [
    "ipf = ny.cortex_plot(sub.rh.pial_surface, color=sub.rh.properties['BA44_weight'], cmap='Reds', alpha=0.7)\n",
    "clr = np.ones((sub.rh.pial_surface.vertex_count,4))\n",
    "clr[:,3] = 0.5\n",
    "ipv.figure()\n",
    "ipf = ny.cortex_plot(sub.rh.pial_surface, color=clr, alpha=0.5, underlay=None, mesh_alpha = 0.5)\n",
    "\n",
    "# Get the lasso selector\n",
    "ipv.selector_default()\n",
    "\n",
    "# Plot the electrodes as spheres\n",
    "elecs_scatter = ipv.scatter(elecs['elecmatrix'][:,0],elecs['elecmatrix'][:,1],elecs['elecmatrix'][:,2], \n",
    "                            marker='sphere', selected=[0,1,2,3,4], color_selected='cornflowerblue', \n",
    "                            color='coral', size_selected = 3.0)\n",
    "\n",
    "from ipywidgets import FloatSlider, ColorPicker, VBox, jslink\n",
    "\n",
    "style = {'description_width': '100px'}\n",
    "\n",
    "size = FloatSlider(min=0, max=10, step=0.1, description='Unselected size', style=style)\n",
    "size_selected = FloatSlider(min=0, max=10, step=0.1, description='Selected size', style=style)\n",
    "color = ColorPicker(concise=True, description='Unselected')\n",
    "color_selected = ColorPicker(concise=True, description='Selected')\n",
    "jslink((elecs_scatter, 'size'), (size, 'value'))\n",
    "jslink((elecs_scatter, 'size_selected'), (size_selected, 'value'))\n",
    "jslink((elecs_scatter, 'color'), (color, 'value'))\n",
    "jslink((elecs_scatter, 'color_selected'), (color_selected, 'value'))\n",
    "#VBox([ipv.gcc(), size, size_selected, color, color_selected])\n",
    "\n",
    "#ipv.show()\n",
    "\n",
    "grid = GridspecLayout(12, 2)\n",
    "grid[:, 0] = ipf\n",
    "grid[0, 1] = size\n",
    "grid[1, 1] = size_selected\n",
    "grid[2, 1] = color\n",
    "grid[3, 1] = color_selected\n",
    "grid[4:, 1] = w\n",
    "#grid[4, 1] = fig\n",
    "\n",
    "grid"
   ]
  },
  {
   "cell_type": "code",
   "execution_count": 66,
   "metadata": {},
   "outputs": [
    {
     "ename": "TypeError",
     "evalue": "object of type 'int' has no len()",
     "output_type": "error",
     "traceback": [
      "\u001b[0;31m---------------------------------------------------------------------------\u001b[0m",
      "\u001b[0;31mTypeError\u001b[0m                                 Traceback (most recent call last)",
      "\u001b[0;32m<ipython-input-66-6b3b01eb5e19>\u001b[0m in \u001b[0;36m<module>\u001b[0;34m\u001b[0m\n\u001b[0;32m----> 1\u001b[0;31m \u001b[0mlen\u001b[0m\u001b[0;34m(\u001b[0m\u001b[0;36m3\u001b[0m\u001b[0;34m)\u001b[0m\u001b[0;34m\u001b[0m\u001b[0m\n\u001b[0m",
      "\u001b[0;31mTypeError\u001b[0m: object of type 'int' has no len()"
     ]
    }
   ],
   "source": []
  },
  {
   "cell_type": "code",
   "execution_count": null,
   "metadata": {},
   "outputs": [],
   "source": []
  }
 ],
 "metadata": {
  "kernelspec": {
   "display_name": "Python 3",
   "language": "python",
   "name": "python3"
  },
  "language_info": {
   "codemirror_mode": {
    "name": "ipython",
    "version": 3
   },
   "file_extension": ".py",
   "mimetype": "text/x-python",
   "name": "python",
   "nbconvert_exporter": "python",
   "pygments_lexer": "ipython3",
   "version": "3.6.6"
  }
 },
 "nbformat": 4,
 "nbformat_minor": 4
}
